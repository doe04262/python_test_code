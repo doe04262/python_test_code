{
 "cells": [
  {
   "cell_type": "code",
   "execution_count": null,
   "id": "e0139887-2f53-4c8a-8519-19494bfe400d",
   "metadata": {},
   "outputs": [],
   "source": [
    "#주민등록번호를 입력받아서 성별을 체크하고 출력하시오.\n",
    "1,3 - 남자 , 2,4 - 여자"
   ]
  },
  {
   "cell_type": "code",
   "execution_count": null,
   "id": "d0f8549e-c053-4b41-8cf6-17525f63d54a",
   "metadata": {},
   "outputs": [],
   "source": [
    "# jumin = input('주민등록번호(001212-3123123) >>>')\n",
    "if jumin[7] in ['1', '3']:\n",
    "        print('남자')\n",
    "elif jumin[7] in ['2', '4']:\n",
    "        print('여자')\n",
    "else:\n",
    "    print('오류')"
   ]
  },
  {
   "cell_type": "code",
   "execution_count": null,
   "id": "f20ec87a-cc6b-4b11-a70f-c0bd6c3d17fa",
   "metadata": {},
   "outputs": [],
   "source": [
    "score = input('점수를 입력 >>>')\n",
    "\n",
    "if score.isdigit():\n",
    "    message = 'success' if in(score) >= 60 else 'failure'\n",
    "    print(message)\n",
    "else:\n",
    "    print('숫자를 입력하세요')"
   ]
  },
  {
   "cell_type": "code",
   "execution_count": null,
   "id": "e4670078-0d13-4381-858c-799f576576ba",
   "metadata": {},
   "outputs": [],
   "source": [
    "coffee = 10\n",
    "while Ture:\n",
    "    money = int(input(\"돈을 넣어주세요: \"))\n",
    "    if money == 300:\n",
    "        print(\"커피를 줍니다.\")\n",
    "        coffee = coffee -1\n",
    "    elif money < 300;\n",
    "        print(\"거스름돈 %d를 주고 커피를 줍니다.\"%(money -300))\n",
    "        coffee = coffee -1\n",
    "    else:\n",
    "        print(\"돈을 다시 돌려주고 커피를 주지 않습니다.\")\n",
    "    print(\"남은 커피의 양은 %d개 입니다.\"% coffee)\n",
    "    if coffee == 0;"
   ]
  },
  {
   "cell_type": "code",
   "execution_count": null,
   "id": "61fb390e-f4af-4c57-8f13-d3d4e80a0dba",
   "metadata": {},
   "outputs": [],
   "source": []
  },
  {
   "cell_type": "code",
   "execution_count": null,
   "id": "7940ba13-f061-40a9-b66c-0a16932b7947",
   "metadata": {},
   "outputs": [],
   "source": []
  },
  {
   "cell_type": "code",
   "execution_count": null,
   "id": "54e03b1a-2e3e-48f4-be90-b7797dcf63cc",
   "metadata": {},
   "outputs": [],
   "source": []
  },
  {
   "cell_type": "code",
   "execution_count": null,
   "id": "0d7c4eff-c5a8-47b4-b5d2-c2ca8c95fa1e",
   "metadata": {},
   "outputs": [],
   "source": []
  },
  {
   "cell_type": "code",
   "execution_count": null,
   "id": "f4db52c7-575e-4a41-a79f-a7b05d8645d8",
   "metadata": {},
   "outputs": [],
   "source": []
  },
  {
   "cell_type": "code",
   "execution_count": null,
   "id": "4513ff9e-228f-4b56-bfa0-f0cddb02b08c",
   "metadata": {},
   "outputs": [],
   "source": []
  },
  {
   "cell_type": "code",
   "execution_count": null,
   "id": "831568fe-4a19-46f0-87d0-bbd823c0c38e",
   "metadata": {},
   "outputs": [],
   "source": []
  },
  {
   "cell_type": "code",
   "execution_count": null,
   "id": "2773ccc9-2e31-46c8-ac02-eabb942e7fb1",
   "metadata": {},
   "outputs": [],
   "source": []
  },
  {
   "cell_type": "code",
   "execution_count": null,
   "id": "1dabf2dc-fede-4c16-a434-22d06ae0709c",
   "metadata": {},
   "outputs": [],
   "source": []
  },
  {
   "cell_type": "code",
   "execution_count": null,
   "id": "719e863e-8423-454b-8f5e-0abff20ce27b",
   "metadata": {},
   "outputs": [],
   "source": []
  },
  {
   "cell_type": "code",
   "execution_count": null,
   "id": "3698e115-e36b-4725-8651-84d6ab7ab474",
   "metadata": {},
   "outputs": [],
   "source": []
  },
  {
   "cell_type": "code",
   "execution_count": null,
   "id": "5197dae5-4001-4f49-ad1d-85a3ee6bb861",
   "metadata": {},
   "outputs": [],
   "source": []
  },
  {
   "cell_type": "code",
   "execution_count": null,
   "id": "9aa6e1cc-1449-4319-9c0d-29e55f139f75",
   "metadata": {},
   "outputs": [],
   "source": []
  },
  {
   "cell_type": "code",
   "execution_count": null,
   "id": "c4f0d777-e5fd-4096-bc3e-0cce4bdcdf72",
   "metadata": {},
   "outputs": [],
   "source": []
  },
  {
   "cell_type": "code",
   "execution_count": null,
   "id": "97bdd663-7e38-4e6b-8782-db7eecbd81e9",
   "metadata": {},
   "outputs": [],
   "source": []
  },
  {
   "cell_type": "code",
   "execution_count": null,
   "id": "98aec23d-2e93-450c-a027-c6c40860e1c6",
   "metadata": {},
   "outputs": [],
   "source": []
  },
  {
   "cell_type": "code",
   "execution_count": null,
   "id": "e15b2853-4690-4e0c-b8b0-154e1ef788b0",
   "metadata": {},
   "outputs": [],
   "source": []
  },
  {
   "cell_type": "code",
   "execution_count": null,
   "id": "91d84b02-7e7d-41e0-b2fa-ac82fa89d04b",
   "metadata": {},
   "outputs": [],
   "source": []
  },
  {
   "cell_type": "code",
   "execution_count": null,
   "id": "0452138a-7c7d-484d-bea3-a7d779b3aceb",
   "metadata": {},
   "outputs": [],
   "source": []
  },
  {
   "cell_type": "code",
   "execution_count": null,
   "id": "5011f5ac-6729-4ff9-a1b2-3bdf0ca7fbca",
   "metadata": {},
   "outputs": [],
   "source": []
  },
  {
   "cell_type": "code",
   "execution_count": null,
   "id": "fb7363de-f2eb-41b8-a8ec-c036d18edcc7",
   "metadata": {},
   "outputs": [],
   "source": []
  },
  {
   "cell_type": "code",
   "execution_count": null,
   "id": "7da8a81d-ca09-42d4-8228-078a0eda5913",
   "metadata": {},
   "outputs": [],
   "source": []
  },
  {
   "cell_type": "code",
   "execution_count": null,
   "id": "716b287f-8243-47dc-908a-b06f3701aec9",
   "metadata": {},
   "outputs": [],
   "source": []
  }
 ],
 "metadata": {
  "kernelspec": {
   "display_name": "Python 3 (ipykernel)",
   "language": "python",
   "name": "python3"
  },
  "language_info": {
   "codemirror_mode": {
    "name": "ipython",
    "version": 3
   },
   "file_extension": ".py",
   "mimetype": "text/x-python",
   "name": "python",
   "nbconvert_exporter": "python",
   "pygments_lexer": "ipython3",
   "version": "3.11.5"
  }
 },
 "nbformat": 4,
 "nbformat_minor": 5
}
