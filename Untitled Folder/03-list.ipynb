{
 "cells": [
  {
   "cell_type": "code",
   "execution_count": 4,
   "id": "d27c77f3-4384-4804-b475-e9ddb4e86f47",
   "metadata": {
    "tags": []
   },
   "outputs": [
    {
     "data": {
      "text/plain": [
       "[1, 3, 5, 7, 9]"
      ]
     },
     "execution_count": 4,
     "metadata": {},
     "output_type": "execute_result"
    }
   ],
   "source": [
    "odd = [1,3,5,7,9]\n",
    "odd"
   ]
  },
  {
   "cell_type": "code",
   "execution_count": 5,
   "id": "4370657a-1cac-4af0-b37f-5aa9ba9cf918",
   "metadata": {
    "tags": []
   },
   "outputs": [
    {
     "data": {
      "text/plain": [
       "list"
      ]
     },
     "execution_count": 5,
     "metadata": {},
     "output_type": "execute_result"
    }
   ],
   "source": [
    "type(odd)"
   ]
  },
  {
   "cell_type": "code",
   "execution_count": 6,
   "id": "29c41082-1cbc-45e7-b013-f5f15fb72edc",
   "metadata": {
    "tags": []
   },
   "outputs": [
    {
     "name": "stdout",
     "output_type": "stream",
     "text": [
      "<class 'list'>\n"
     ]
    }
   ],
   "source": [
    "print(type(odd))"
   ]
  },
  {
   "cell_type": "code",
   "execution_count": 9,
   "id": "8de5a745-d5f4-4678-aab9-8cae26500567",
   "metadata": {
    "tags": []
   },
   "outputs": [],
   "source": [
    "e = [1, 2, ['Life', 'is']]"
   ]
  },
  {
   "cell_type": "code",
   "execution_count": 10,
   "id": "28a6996e-ce3b-45ad-897a-903a1fea8aa8",
   "metadata": {
    "tags": []
   },
   "outputs": [
    {
     "data": {
      "text/plain": [
       "[1, 2, ['Life', 'is']]"
      ]
     },
     "execution_count": 10,
     "metadata": {},
     "output_type": "execute_result"
    }
   ],
   "source": [
    "e"
   ]
  },
  {
   "cell_type": "code",
   "execution_count": 11,
   "id": "f0d861b7-b2ea-498b-9a4c-bbc5de1c119b",
   "metadata": {
    "tags": []
   },
   "outputs": [
    {
     "data": {
      "text/plain": [
       "1"
      ]
     },
     "execution_count": 11,
     "metadata": {},
     "output_type": "execute_result"
    }
   ],
   "source": [
    "e[0]"
   ]
  },
  {
   "cell_type": "code",
   "execution_count": 16,
   "id": "28939fe0-adb9-47c6-bccc-fae44496b368",
   "metadata": {
    "tags": []
   },
   "outputs": [
    {
     "data": {
      "text/plain": [
       "'Life'"
      ]
     },
     "execution_count": 16,
     "metadata": {},
     "output_type": "execute_result"
    }
   ],
   "source": [
    "e[2][0]"
   ]
  },
  {
   "cell_type": "code",
   "execution_count": 17,
   "id": "e238f48a-eeea-493e-b0d8-7f61f4a0c3ab",
   "metadata": {
    "tags": []
   },
   "outputs": [],
   "source": [
    "e = [1, 2, ['Life', 'is', [12.3, 34.5]]]"
   ]
  },
  {
   "cell_type": "code",
   "execution_count": 28,
   "id": "9a24072c-6bfd-4563-b2e2-84f37419bca9",
   "metadata": {
    "tags": []
   },
   "outputs": [
    {
     "data": {
      "text/plain": [
       "[12.3, 34.5]"
      ]
     },
     "execution_count": 28,
     "metadata": {},
     "output_type": "execute_result"
    }
   ],
   "source": [
    "e[2][2]"
   ]
  },
  {
   "cell_type": "code",
   "execution_count": 29,
   "id": "48e1de8a-0fb1-4e5a-8395-8c40d66582ce",
   "metadata": {
    "tags": []
   },
   "outputs": [
    {
     "data": {
      "text/plain": [
       "3"
      ]
     },
     "execution_count": 29,
     "metadata": {},
     "output_type": "execute_result"
    }
   ],
   "source": [
    "len(e)"
   ]
  },
  {
   "cell_type": "code",
   "execution_count": 30,
   "id": "fc0db179-0681-4c76-b838-ab2939449e8f",
   "metadata": {
    "tags": []
   },
   "outputs": [
    {
     "data": {
      "text/plain": [
       "[1, 2, ['Life', 'is', [12.3, 34.5]], 1, 2, ['Life', 'is', [12.3, 34.5]]]"
      ]
     },
     "execution_count": 30,
     "metadata": {},
     "output_type": "execute_result"
    }
   ],
   "source": [
    "e + e"
   ]
  },
  {
   "cell_type": "code",
   "execution_count": 31,
   "id": "b10c04a2-0610-474e-a11f-91ab5749e959",
   "metadata": {
    "tags": []
   },
   "outputs": [
    {
     "data": {
      "text/plain": [
       "[1, 2, 3, 4, 5, 6]"
      ]
     },
     "execution_count": 31,
     "metadata": {},
     "output_type": "execute_result"
    }
   ],
   "source": [
    "a = [1,2,3]\n",
    "b = [4,5,6]\n",
    "a + b"
   ]
  },
  {
   "cell_type": "code",
   "execution_count": 32,
   "id": "49fc9f1e-aa23-4eca-8482-e254e9e3b071",
   "metadata": {
    "tags": []
   },
   "outputs": [
    {
     "data": {
      "text/plain": [
       "[1, 2, 3, 1, 2, 3, 1, 2, 3]"
      ]
     },
     "execution_count": 32,
     "metadata": {},
     "output_type": "execute_result"
    }
   ],
   "source": [
    "a * 3"
   ]
  },
  {
   "cell_type": "code",
   "execution_count": 33,
   "id": "ad65af42-923e-4aac-9673-2a1a66724e67",
   "metadata": {
    "tags": []
   },
   "outputs": [
    {
     "data": {
      "text/plain": [
       "[1, 2, 3, 4]"
      ]
     },
     "execution_count": 33,
     "metadata": {},
     "output_type": "execute_result"
    }
   ],
   "source": [
    ">>> a = [1, 2, 3]\n",
    ">>> a.append(4)\n",
    ">>> a"
   ]
  },
  {
   "cell_type": "code",
   "execution_count": 34,
   "id": "b3f34ca2-cdfe-406f-b5c3-7a839ec92726",
   "metadata": {
    "tags": []
   },
   "outputs": [
    {
     "data": {
      "text/plain": [
       "[1, 2, 3, 4, [5, 6]]"
      ]
     },
     "execution_count": 34,
     "metadata": {},
     "output_type": "execute_result"
    }
   ],
   "source": [
    ">>> a.append([5, 6])\n",
    ">>> a"
   ]
  },
  {
   "cell_type": "code",
   "execution_count": 36,
   "id": "b38a1aea-744a-4a1f-b0ba-8569b7bcb455",
   "metadata": {
    "tags": []
   },
   "outputs": [],
   "source": [
    "a. append(b)"
   ]
  },
  {
   "cell_type": "code",
   "execution_count": 37,
   "id": "2c432901-d6ed-4407-b826-2e90ea09165f",
   "metadata": {
    "tags": []
   },
   "outputs": [
    {
     "data": {
      "text/plain": [
       "[1, 2, 3, 4, [5, 6], [4, 5, 6]]"
      ]
     },
     "execution_count": 37,
     "metadata": {},
     "output_type": "execute_result"
    }
   ],
   "source": [
    "a"
   ]
  },
  {
   "cell_type": "code",
   "execution_count": 38,
   "id": "93c6761e-3ee4-4b44-bfa5-4b811c3e9dc9",
   "metadata": {
    "tags": []
   },
   "outputs": [],
   "source": [
    "a.insert(3,10)"
   ]
  },
  {
   "cell_type": "code",
   "execution_count": 39,
   "id": "f7d06a61-e9ae-4338-890f-109b2cf25230",
   "metadata": {
    "tags": []
   },
   "outputs": [
    {
     "data": {
      "text/plain": [
       "[1, 2, 3, 10, 4, [5, 6], [4, 5, 6]]"
      ]
     },
     "execution_count": 39,
     "metadata": {},
     "output_type": "execute_result"
    }
   ],
   "source": [
    "a"
   ]
  },
  {
   "cell_type": "code",
   "execution_count": 40,
   "id": "1afda403-9e1b-43e4-a118-91e507fd8ece",
   "metadata": {
    "tags": []
   },
   "outputs": [],
   "source": [
    "a. extend([1,2,3])"
   ]
  },
  {
   "cell_type": "code",
   "execution_count": 41,
   "id": "79428955-9fc2-48fe-8f90-c8462229bfa6",
   "metadata": {
    "tags": []
   },
   "outputs": [
    {
     "data": {
      "text/plain": [
       "[1, 2, 3, 10, 4, [5, 6], [4, 5, 6], 1, 2, 3]"
      ]
     },
     "execution_count": 41,
     "metadata": {},
     "output_type": "execute_result"
    }
   ],
   "source": [
    "a"
   ]
  },
  {
   "cell_type": "code",
   "execution_count": 43,
   "id": "27e28688-58fe-4b14-aec8-11470bdd4230",
   "metadata": {
    "tags": []
   },
   "outputs": [
    {
     "data": {
      "text/plain": [
       "[1, 2, 3, 10, 11, [5, 6], [4, 5, 6], 1, 2, 3]"
      ]
     },
     "execution_count": 43,
     "metadata": {},
     "output_type": "execute_result"
    }
   ],
   "source": [
    "a[4]=11\n",
    "a"
   ]
  },
  {
   "cell_type": "code",
   "execution_count": 46,
   "id": "260ea415-7905-4ef6-947b-b89448c32a62",
   "metadata": {
    "tags": []
   },
   "outputs": [
    {
     "data": {
      "text/plain": [
       "2"
      ]
     },
     "execution_count": 46,
     "metadata": {},
     "output_type": "execute_result"
    }
   ],
   "source": [
    ">>> a = [1, 2, 3]\n",
    ">>> a.index(3)"
   ]
  },
  {
   "cell_type": "code",
   "execution_count": 47,
   "id": "a4a6f4f0-6974-4954-889e-d008ba041549",
   "metadata": {
    "tags": []
   },
   "outputs": [
    {
     "data": {
      "text/plain": [
       "[4, 1, 2, 3]"
      ]
     },
     "execution_count": 47,
     "metadata": {},
     "output_type": "execute_result"
    }
   ],
   "source": [
    ">>> a = [1, 2, 3]\n",
    ">>> a.insert(0, 4)\n",
    ">>> a"
   ]
  },
  {
   "cell_type": "code",
   "execution_count": 48,
   "id": "a3b2fbcc-fa5e-48c6-af1d-33f248ece1ff",
   "metadata": {
    "tags": []
   },
   "outputs": [
    {
     "data": {
      "text/plain": [
       "[4, 1, 2, 5, 3]"
      ]
     },
     "execution_count": 48,
     "metadata": {},
     "output_type": "execute_result"
    }
   ],
   "source": [
    ">>> a.insert(3, 5)\n",
    ">>> a"
   ]
  },
  {
   "cell_type": "code",
   "execution_count": 49,
   "id": "650d8fa8-6bb8-4e5a-b9ea-26cce5aedf6b",
   "metadata": {
    "tags": []
   },
   "outputs": [
    {
     "data": {
      "text/plain": [
       "[1, 2, 1, 2, 3]"
      ]
     },
     "execution_count": 49,
     "metadata": {},
     "output_type": "execute_result"
    }
   ],
   "source": [
    ">>> a = [1, 2, 3, 1, 2, 3]\n",
    ">>> a.remove(3)\n",
    ">>> a"
   ]
  },
  {
   "cell_type": "code",
   "execution_count": 50,
   "id": "14f41eea-072e-4fc7-9500-8fa7076ba120",
   "metadata": {
    "tags": []
   },
   "outputs": [
    {
     "data": {
      "text/plain": [
       "[1, 2, 1, 2]"
      ]
     },
     "execution_count": 50,
     "metadata": {},
     "output_type": "execute_result"
    }
   ],
   "source": [
    ">>> a.remove(3)\n",
    ">>> a"
   ]
  },
  {
   "cell_type": "code",
   "execution_count": 51,
   "id": "79c9634d-2474-423d-abd6-6c86513cd089",
   "metadata": {
    "tags": []
   },
   "outputs": [
    {
     "data": {
      "text/plain": [
       "[1, 2, 3, 4]"
      ]
     },
     "execution_count": 51,
     "metadata": {},
     "output_type": "execute_result"
    }
   ],
   "source": [
    ">>> a = [1, 4, 3, 2]\n",
    ">>> a.sort()\n",
    ">>> a"
   ]
  },
  {
   "cell_type": "code",
   "execution_count": 52,
   "id": "c8a83c84-6d7b-4566-b4bc-85c171ec113c",
   "metadata": {
    "tags": []
   },
   "outputs": [
    {
     "data": {
      "text/plain": [
       "['a', 'b', 'c']"
      ]
     },
     "execution_count": 52,
     "metadata": {},
     "output_type": "execute_result"
    }
   ],
   "source": [
    ">>> a = ['a', 'c', 'b']\n",
    ">>> a.sort()\n",
    ">>> a"
   ]
  },
  {
   "cell_type": "code",
   "execution_count": 55,
   "id": "89cc711e-1213-42b7-8eee-f6aab50a8d9d",
   "metadata": {
    "tags": []
   },
   "outputs": [],
   "source": [
    ">>> dic = {'name':'pey', 'phone':'010-9999-1234', 'birth': '1118'}"
   ]
  },
  {
   "cell_type": "code",
   "execution_count": 56,
   "id": "e458f41c-87fc-4fa6-b995-df3b2263c41c",
   "metadata": {
    "tags": []
   },
   "outputs": [
    {
     "data": {
      "text/plain": [
       "'1118'"
      ]
     },
     "execution_count": 56,
     "metadata": {},
     "output_type": "execute_result"
    }
   ],
   "source": [
    ">>> dic['birth']"
   ]
  },
  {
   "cell_type": "code",
   "execution_count": 57,
   "id": "bbcc3995-2c49-4a00-a648-8cbb740dedb2",
   "metadata": {
    "tags": []
   },
   "outputs": [
    {
     "data": {
      "text/plain": [
       "'010-9999-1234'"
      ]
     },
     "execution_count": 57,
     "metadata": {},
     "output_type": "execute_result"
    }
   ],
   "source": [
    ">>> dic['phone']"
   ]
  },
  {
   "cell_type": "code",
   "execution_count": 58,
   "id": "ff112b41-8a99-4f6c-a101-385fdf96e0ce",
   "metadata": {
    "tags": []
   },
   "outputs": [
    {
     "data": {
      "text/plain": [
       "'pey'"
      ]
     },
     "execution_count": 58,
     "metadata": {},
     "output_type": "execute_result"
    }
   ],
   "source": [
    ">>> dic['name']\n"
   ]
  },
  {
   "cell_type": "code",
   "execution_count": null,
   "id": "e19a04bf-dc88-4f46-8f31-82029697e76d",
   "metadata": {},
   "outputs": [],
   "source": []
  },
  {
   "cell_type": "code",
   "execution_count": null,
   "id": "d84fbeeb-de14-46fa-a951-e65aecf69d9d",
   "metadata": {},
   "outputs": [],
   "source": []
  },
  {
   "cell_type": "code",
   "execution_count": null,
   "id": "9c6f3630-48d5-4cc5-81ac-e0bd9eec9222",
   "metadata": {},
   "outputs": [],
   "source": []
  },
  {
   "cell_type": "code",
   "execution_count": null,
   "id": "33e99557-1d37-4657-b4ad-26611a20a132",
   "metadata": {},
   "outputs": [],
   "source": []
  }
 ],
 "metadata": {
  "kernelspec": {
   "display_name": "Python 3 (ipykernel)",
   "language": "python",
   "name": "python3"
  },
  "language_info": {
   "codemirror_mode": {
    "name": "ipython",
    "version": 3
   },
   "file_extension": ".py",
   "mimetype": "text/x-python",
   "name": "python",
   "nbconvert_exporter": "python",
   "pygments_lexer": "ipython3",
   "version": "3.11.5"
  }
 },
 "nbformat": 4,
 "nbformat_minor": 5
}
